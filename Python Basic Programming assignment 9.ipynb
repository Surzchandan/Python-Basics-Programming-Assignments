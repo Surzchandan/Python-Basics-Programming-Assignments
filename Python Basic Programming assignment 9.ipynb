{
 "cells": [
  {
   "cell_type": "markdown",
   "id": "6aa87860",
   "metadata": {},
   "source": [
    "# Programming Assignment 9"
   ]
  },
  {
   "cell_type": "markdown",
   "id": "0329f65f",
   "metadata": {},
   "source": [
    "# 1. Write a Python program to check if the given number is a Disarium Number?"
   ]
  },
  {
   "cell_type": "code",
   "execution_count": 6,
   "id": "b8e71ef1",
   "metadata": {},
   "outputs": [
    {
     "name": "stdout",
     "output_type": "stream",
     "text": [
      "Enter the Number : 123\n",
      "123 number is not Disarium\n"
     ]
    }
   ],
   "source": [
    "def Isdisarium(num):\n",
    "    sum=0\n",
    "    while (num>0):\n",
    "        dgcnt=len(str(num))\n",
    "        digit=num%10\n",
    "        sum=sum+digit**dgcnt\n",
    "        dgcnt-=1\n",
    "        num=num//10\n",
    "    return sum\n",
    "num= int(input(\"Enter the Number : \"))\n",
    "\n",
    "sum=Isdisarium(num)\n",
    "if sum==num:\n",
    "    print(num,\"Number is Disarium\")\n",
    "else:\n",
    "    print(num,\"number is not Disarium\")"
   ]
  },
  {
   "cell_type": "markdown",
   "id": "38413fa4",
   "metadata": {},
   "source": [
    "# 2. Write a Python program to print all disarium numbers between 1 to 100?"
   ]
  },
  {
   "cell_type": "code",
   "execution_count": 7,
   "id": "3b420ba4",
   "metadata": {},
   "outputs": [
    {
     "name": "stdout",
     "output_type": "stream",
     "text": [
      "Disarium numbers in range 1 to 100\n",
      "[1, 2, 3, 4, 5, 6, 7, 8, 9, 89]\n"
     ]
    }
   ],
   "source": [
    "def isdisarium(num):\n",
    "    sum=0\n",
    "    while (num>0):\n",
    "        dgcnt=len(str(num))\n",
    "        digit=num%10\n",
    "        sum=sum+digit**dgcnt\n",
    "        dgcnt-=1\n",
    "        num=num//10\n",
    "    return sum\n",
    "print(\"Disarium numbers in range 1 to 100\")\n",
    "disariumnum=[]\n",
    "\n",
    "for i in range(1,101):\n",
    "    sum=0\n",
    "    sum=isdisarium(i)\n",
    "    if sum==i:\n",
    "        disariumnum.append (i)\n",
    "print(disariumnum)"
   ]
  },
  {
   "cell_type": "markdown",
   "id": "360546a1",
   "metadata": {},
   "source": [
    "# 3. Write a Python program to check if the given number is Happy Number?"
   ]
  },
  {
   "cell_type": "markdown",
   "id": "cded02a3",
   "metadata": {},
   "source": [
    "In number theory, a happy number is a number which eventually reaches 1 when replaced by the sum of the square of each digit. For instance, 13 is a happy number because {\\displaystyle 1^{2}+3^{2}=10}{\\displaystyle 1^{2}+3^{2}=10}, and {\\displaystyle 1^{2}+0^{2}=1}{\\displaystyle 1^{2}+0^{2}=1}"
   ]
  },
  {
   "cell_type": "code",
   "execution_count": 11,
   "id": "301d4f58",
   "metadata": {},
   "outputs": [
    {
     "name": "stdout",
     "output_type": "stream",
     "text": [
      "enter the number : 13\n",
      "13 Is a Happy Number\n"
     ]
    }
   ],
   "source": [
    "def isHappy (num):\n",
    "    sum=0\n",
    "    while (num>0):\n",
    "        digit=num%10\n",
    "        sum=sum+digit**2\n",
    "        num=num//10\n",
    "    return sum\n",
    "num=int(input(\"enter the number : \"))\n",
    "result=num\n",
    "\n",
    "while (result !=1 and result !=4):\n",
    "    result=isHappy(result)\n",
    "    \n",
    "if result ==1:\n",
    "    print (num,\"Is a Happy Number\")\n",
    "else:\n",
    "    print(num,\"Is a Unhappy Number\")"
   ]
  },
  {
   "cell_type": "markdown",
   "id": "6e25e80c",
   "metadata": {},
   "source": [
    "# 4. Write a Python program to print all happy numbers between 1 and 100?"
   ]
  },
  {
   "cell_type": "code",
   "execution_count": 12,
   "id": "c0f2941d",
   "metadata": {},
   "outputs": [
    {
     "name": "stdout",
     "output_type": "stream",
     "text": [
      "Happy numbers in range 1 to 100\n",
      "[1, 7, 10, 13, 19, 23, 28, 31, 32, 44, 49, 68, 70, 79, 82, 86, 91, 94, 97, 100]\n"
     ]
    }
   ],
   "source": [
    "def isHappy(num):\n",
    "    sum = 0\n",
    "    while(num>0):\n",
    "        digit = num%10\n",
    "        sum= sum + digit**2        \n",
    "        num = num//10\n",
    "    return sum\n",
    "\n",
    "print(\"Happy numbers in range 1 to 100\")\n",
    "result=num=i=0\n",
    "happyNum = []\n",
    "for i in range(1,101):\n",
    "    result = i\n",
    "    while (result != 1 and result != 4):\n",
    "        result = isHappy(result)    \n",
    "    if result == 1:\n",
    "        happyNum.append(i)\n",
    "print(happyNum)"
   ]
  },
  {
   "cell_type": "markdown",
   "id": "0421767e",
   "metadata": {},
   "source": [
    "# 5. Write a Python program to determine whether the given number is a Harshad Number?"
   ]
  },
  {
   "cell_type": "markdown",
   "id": "8c4cc600",
   "metadata": {},
   "source": [
    " If a number is divisible by the sum of its digits, then it will be known as a Harshad Number"
   ]
  },
  {
   "cell_type": "code",
   "execution_count": 15,
   "id": "83b9ed24",
   "metadata": {},
   "outputs": [
    {
     "name": "stdout",
     "output_type": "stream",
     "text": [
      "Enter the number : 45\n",
      "45 Is a Harshad Number\n"
     ]
    }
   ],
   "source": [
    "def digitSum(num):\n",
    "    sum=0\n",
    "    while (num>0):\n",
    "        digit=num%10\n",
    "        sum=sum+digit\n",
    "        num=num//10\n",
    "    return sum\n",
    "num =int(input(\"Enter the number : \"))\n",
    "sum = digitSum(num)\n",
    "\n",
    "if num%sum==0:\n",
    "    print(num,\"Is a Harshad Number\")\n",
    "else:\n",
    "    print(num,\"Is Not a Harshad Number\")"
   ]
  },
  {
   "cell_type": "markdown",
   "id": "fa1f0393",
   "metadata": {},
   "source": [
    "# 6. Write a Python program to print all pronic numbers between 1 and 100?"
   ]
  },
  {
   "cell_type": "markdown",
   "id": "f61ad9c2",
   "metadata": {},
   "source": [
    "The pronic number is a product of two consecutive integers of the form: n(n+1)."
   ]
  },
  {
   "cell_type": "code",
   "execution_count": 16,
   "id": "17371936",
   "metadata": {},
   "outputs": [
    {
     "name": "stdout",
     "output_type": "stream",
     "text": [
      "pronic numbers in range 1 to 100\n",
      "[2, 6, 12, 20, 30, 42, 56, 72, 90]\n"
     ]
    }
   ],
   "source": [
    "def isPronic(num):\n",
    "    isPronic=False\n",
    "    for i in range(1,num+1):\n",
    "        if i*(i+1)==num:\n",
    "            isPronic=True\n",
    "            break\n",
    "    return isPronic\n",
    "print(\"pronic numbers in range 1 to 100\")\n",
    "pronicNum=[]\n",
    "for i in range(1,101):\n",
    "    if isPronic(i):\n",
    "        pronicNum.append(i)\n",
    "print(pronicNum)"
   ]
  },
  {
   "cell_type": "code",
   "execution_count": null,
   "id": "af00aaaf",
   "metadata": {},
   "outputs": [],
   "source": []
  }
 ],
 "metadata": {
  "kernelspec": {
   "display_name": "Python 3 (ipykernel)",
   "language": "python",
   "name": "python3"
  },
  "language_info": {
   "codemirror_mode": {
    "name": "ipython",
    "version": 3
   },
   "file_extension": ".py",
   "mimetype": "text/x-python",
   "name": "python",
   "nbconvert_exporter": "python",
   "pygments_lexer": "ipython3",
   "version": "3.9.7"
  }
 },
 "nbformat": 4,
 "nbformat_minor": 5
}
