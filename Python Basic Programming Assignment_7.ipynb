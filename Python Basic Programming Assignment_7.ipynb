{
 "cells": [
  {
   "cell_type": "markdown",
   "id": "c33031c9",
   "metadata": {},
   "source": [
    "# 1.\tWrite a Python Program to find sum of array?"
   ]
  },
  {
   "cell_type": "code",
   "execution_count": 11,
   "id": "dffed5a2",
   "metadata": {},
   "outputs": [
    {
     "name": "stdout",
     "output_type": "stream",
     "text": [
      "Sum is 29\n"
     ]
    }
   ],
   "source": [
    "sum =0\n",
    "lst = [2,4,2,7,5,9]\n",
    "for i in range(0,len(lst)):\n",
    "    sum+=lst[i]\n",
    "print(\"Sum is\",sum)"
   ]
  },
  {
   "cell_type": "markdown",
   "id": "e3271b25",
   "metadata": {},
   "source": [
    "# 2.\tWrite a Python Program to find largest element in an array?"
   ]
  },
  {
   "cell_type": "code",
   "execution_count": 14,
   "id": "770ffe93",
   "metadata": {},
   "outputs": [
    {
     "name": "stdout",
     "output_type": "stream",
     "text": [
      "lstgetst elemnt in the array [1, 22, 33, 44, 2, 66] is 66\n"
     ]
    }
   ],
   "source": [
    "lst = [1,22,33,44,2,66]\n",
    "max(lst)\n",
    "print(\"lstgetst elemnt in the array {} is {}\".format(lst,max(lst)))"
   ]
  },
  {
   "cell_type": "markdown",
   "id": "460a2a19",
   "metadata": {},
   "source": [
    "# 3.\tWrite a Python Program for array rotation?"
   ]
  },
  {
   "cell_type": "code",
   "execution_count": 4,
   "id": "9f25ab30",
   "metadata": {},
   "outputs": [
    {
     "name": "stdout",
     "output_type": "stream",
     "text": [
      "Enter number of elements of the array: 3\n",
      "Enter elements of the array: \n",
      "1\n",
      "2\n",
      "3\n",
      "Enter rotation count: 2\n",
      "Initial Array:  1 2 3 \n",
      "Array after rotation:  3 1 2 "
     ]
    }
   ],
   "source": [
    "def rotateArrayLeft(arr, R, n):\n",
    "    shift = []\n",
    "    i = 0\n",
    "    while (i < R):\n",
    "        shift.append(arr[i])\n",
    "        i = i + 1\n",
    "    for i in range(n-R):\n",
    "            arr[i] = arr[i+R]\n",
    "    i = n-R\n",
    "    j = 0\n",
    "    while (i < n):\n",
    "        arr[i] = shift[j]\n",
    "        j += 1\n",
    "        i = i + 1\n",
    "    \n",
    "    return arr\n",
    "\n",
    "# Taking array input from user\n",
    "arr = [1, 2, 3, 4, 5, 6, 7]\n",
    "n = int(input(\"Enter number of elements of the array: \"))\n",
    "arr = []\n",
    "print(\"Enter elements of the array: \")\n",
    "for i in range(n):\n",
    "  numbers = int(input())\n",
    "  arr.append(numbers)\n",
    "R = int(input(\"Enter rotation count: \"))\n",
    "\n",
    "# Printing array \n",
    "print(\"Initial Array: \", end = \" \")\n",
    "for i in range(n):\n",
    "    print (\"%d\"% arr[i],end=\" \")\n",
    "\n",
    "# Calling function for left Rotating array \n",
    "rotateArrayLeft(arr, R, n)\n",
    "\n",
    "# Printing new array \n",
    "print(\"\\nArray after rotation: \", end = \" \")\n",
    "for i in range(n):\n",
    "    print (\"%d\"% arr[i],end=\" \")"
   ]
  },
  {
   "cell_type": "markdown",
   "id": "a2729785",
   "metadata": {},
   "source": [
    "# 4. Write a Python Program to Split the array and add the first part to the end?"
   ]
  },
  {
   "cell_type": "code",
   "execution_count": 11,
   "id": "1f2a1c02",
   "metadata": {},
   "outputs": [
    {
     "name": "stdout",
     "output_type": "stream",
     "text": [
      "Enter the length of your list: 6\n",
      "1\n",
      "2\n",
      "3\n",
      "4\n",
      "5\n",
      "6\n",
      "the list is  [1, 2, 3, 4, 5, 6]\n",
      "Enter the number of elements to split <: 3\n",
      "The split list is :  [1, 2, 3]\n",
      "The list after split and add : [4, 5, 6, 1, 2, 3]\n"
     ]
    }
   ],
   "source": [
    "n=int(input(\"Enter the length of your list: \"))\n",
    "lst=[]\n",
    "for i in range (n):\n",
    "    lst.append(int(input()))\n",
    "print(\"the list is \",lst)\n",
    "\n",
    "nl=int(input(\"Enter the number of elements to split <: \"))\n",
    "if nl > n:\n",
    "    print(\"Can't split as elements to split is larger than list length\")\n",
    "else:\n",
    "    print(\"The split list is : \",lst[:nl])\n",
    "    rlst= lst [nl:n] + lst [:nl]\n",
    "    print(\"The list after split and add :\", rlst)"
   ]
  },
  {
   "cell_type": "markdown",
   "id": "4dacd03c",
   "metadata": {},
   "source": [
    "# 5. Write a Python Program to check if given array is Monotonic?"
   ]
  },
  {
   "cell_type": "markdown",
   "id": "ba4d5521",
   "metadata": {},
   "source": [
    "- An array is said to be monotonic in nature if it is either continuously increasing or continuously decreasing."
   ]
  },
  {
   "cell_type": "code",
   "execution_count": 17,
   "id": "35f2887b",
   "metadata": {},
   "outputs": [
    {
     "name": "stdout",
     "output_type": "stream",
     "text": [
      "Enter the length of your list: 5\n",
      "1\n",
      "2\n",
      "3\n",
      "1\n",
      "5\n",
      "The list is  [1, 2, 3, 1, 5]\n",
      "Array is Not Monotonic\n"
     ]
    }
   ],
   "source": [
    "n= int(input(\"Enter the length of your list: \"))\n",
    "lst=[]\n",
    "\n",
    "for i in range (n):\n",
    "    lst.append(int(input()))\n",
    "print(\"The list is \",lst)\n",
    "\n",
    "if all((lst[i]<=lst[i+1] for i in range (n-1)) or (lst[i]>= lst[i+1] for i in range (n-1))):\n",
    "    print (\"Array is Monotonic\")\n",
    "else:\n",
    "    print(\"Array is Not Monotonic\")\n",
    "\n"
   ]
  },
  {
   "cell_type": "markdown",
   "id": "eba65631",
   "metadata": {},
   "source": []
  }
 ],
 "metadata": {
  "kernelspec": {
   "display_name": "Python 3 (ipykernel)",
   "language": "python",
   "name": "python3"
  },
  "language_info": {
   "codemirror_mode": {
    "name": "ipython",
    "version": 3
   },
   "file_extension": ".py",
   "mimetype": "text/x-python",
   "name": "python",
   "nbconvert_exporter": "python",
   "pygments_lexer": "ipython3",
   "version": "3.9.7"
  }
 },
 "nbformat": 4,
 "nbformat_minor": 5
}
