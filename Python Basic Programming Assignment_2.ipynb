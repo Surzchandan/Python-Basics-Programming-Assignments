{
 "cells": [
  {
   "cell_type": "markdown",
   "id": "b2a5100e",
   "metadata": {},
   "source": [
    "# Python Basics Programming Assignment 2"
   ]
  },
  {
   "cell_type": "markdown",
   "id": "0390745b",
   "metadata": {},
   "source": [
    "# 1.\tWrite a Python program to convert kilometers to miles?"
   ]
  },
  {
   "cell_type": "code",
   "execution_count": 4,
   "id": "1e73474c",
   "metadata": {},
   "outputs": [
    {
     "name": "stdout",
     "output_type": "stream",
     "text": [
      "Welcome! Do you want to convert Kilometer into Miles\n",
      "Enter Kilometer:__5\n",
      "You entered Kilometer=5.0 and in miles conversion=3.1068499999999997\n"
     ]
    }
   ],
   "source": [
    "print(\"Welcome! Do you want to convert Kilometer into Miles\")\n",
    "Kilometer=float(input(\"Enter Kilometer:__\"))\n",
    "miles=0.62137* Kilometer\n",
    "print(\"You entered Kilometer={} and in miles conversion={}\".format(Kilometer,miles))"
   ]
  },
  {
   "cell_type": "markdown",
   "id": "6ffe76d4",
   "metadata": {},
   "source": [
    "# 2.\tWrite a Python program to convert Celsius to Fahrenheit?"
   ]
  },
  {
   "cell_type": "code",
   "execution_count": 11,
   "id": "44a7bf7c",
   "metadata": {},
   "outputs": [
    {
     "name": "stdout",
     "output_type": "stream",
     "text": [
      "Enter temperature in Celcius:_36\n",
      "Temperature in Celcius 36.00 is equal to 96.80 in fahrenheit\n"
     ]
    }
   ],
   "source": [
    "#fahrenheit=celcius*(9/5)+32\n",
    "celsius=float(input(\"Enter temperature in Celcius:_\"))\n",
    "fahrenheit= 9/5* celsius +32\n",
    "print(\"Temperature in Celcius %0.2f is equal to %0.2f in fahrenheit\"%(celsius,fahrenheit))"
   ]
  },
  {
   "cell_type": "markdown",
   "id": "b8d29735",
   "metadata": {},
   "source": [
    "# 3.\tWrite a Python program to display calendar?"
   ]
  },
  {
   "cell_type": "code",
   "execution_count": 13,
   "id": "a7a4a26c",
   "metadata": {},
   "outputs": [
    {
     "name": "stdout",
     "output_type": "stream",
     "text": [
      "Enter Year:-1988\n",
      "Enter Month:-11\n",
      "   November 1988\n",
      "Mo Tu We Th Fr Sa Su\n",
      "    1  2  3  4  5  6\n",
      " 7  8  9 10 11 12 13\n",
      "14 15 16 17 18 19 20\n",
      "21 22 23 24 25 26 27\n",
      "28 29 30\n",
      "\n"
     ]
    }
   ],
   "source": [
    "import calendar\n",
    "y= int(input(\"Enter Year:-\"))\n",
    "m= int(input(\"Enter Month:-\"))\n",
    "print(calendar.month(y,m))"
   ]
  },
  {
   "cell_type": "markdown",
   "id": "31bbce9a",
   "metadata": {},
   "source": [
    "# 4.\tWrite a Python program to solve quadratic equation?"
   ]
  },
  {
   "cell_type": "markdown",
   "id": "372cf2e2",
   "metadata": {},
   "source": [
    "#Quadratic equation is ax**2+bx+c=0 Where a,b,c are real nos.\n",
    "\n",
    "#and a!=0\n",
    "\n",
    "#Solution1 (-b+(b**2-4*a*c)**0.5)/(2*a)\n",
    "\n",
    "#Solution1 (-b-(b**2-4*a*c)**0.5)/(2*a)"
   ]
  },
  {
   "cell_type": "code",
   "execution_count": 41,
   "id": "4a5f9964",
   "metadata": {},
   "outputs": [
    {
     "name": "stdout",
     "output_type": "stream",
     "text": [
      "Descriminant :  24\n",
      "Sol1 :  -5.449489742783178\n",
      "Sol2 :  3.550510257216822\n"
     ]
    }
   ],
   "source": [
    "import math\n",
    "a = 1\n",
    "b = 6\n",
    "c = 3\n",
    "\n",
    "d = b**2 - (4*a*c)\n",
    "print(\"Descriminant : \",d)\n",
    "\n",
    "sol1 = (-b - math.sqrt(d))/(2*a)\n",
    "sol2 = b - (math.sqrt(d))/(2*a)\n",
    "\n",
    "print(\"Sol1 : \",sol1)\n",
    "print(\"Sol2 : \",sol2)"
   ]
  },
  {
   "cell_type": "markdown",
   "id": "7903d1a5",
   "metadata": {},
   "source": [
    "# 5.\tWrite a Python program to swap two variables without temp variable?"
   ]
  },
  {
   "cell_type": "code",
   "execution_count": 21,
   "id": "4ccf1d88",
   "metadata": {},
   "outputs": [
    {
     "name": "stdout",
     "output_type": "stream",
     "text": [
      "Enter First no.:-33\n",
      "Enter Second no.:-66\n",
      "a=33 and b=66 before swaping\n",
      "a=66 and b=33 after swaping\n"
     ]
    }
   ],
   "source": [
    "a=int(input(\"Enter First no.:-\"))\n",
    "b=int(input(\"Enter Second no.:-\"))\n",
    "print(\"a={} and b={} before swaping\".format(a,b))\n",
    "a,b=b,a\n",
    "print(\"a={} and b={} after swaping\".format(a,b))"
   ]
  },
  {
   "cell_type": "code",
   "execution_count": null,
   "id": "d31adf96",
   "metadata": {},
   "outputs": [],
   "source": []
  }
 ],
 "metadata": {
  "kernelspec": {
   "display_name": "Python 3 (ipykernel)",
   "language": "python",
   "name": "python3"
  },
  "language_info": {
   "codemirror_mode": {
    "name": "ipython",
    "version": 3
   },
   "file_extension": ".py",
   "mimetype": "text/x-python",
   "name": "python",
   "nbconvert_exporter": "python",
   "pygments_lexer": "ipython3",
   "version": "3.9.7"
  }
 },
 "nbformat": 4,
 "nbformat_minor": 5
}
