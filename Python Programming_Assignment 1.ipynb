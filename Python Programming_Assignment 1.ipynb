{
 "cells": [
  {
   "cell_type": "markdown",
   "id": "3cf5a039",
   "metadata": {},
   "source": [
    "# Python Basic Programming_Assignment 1"
   ]
  },
  {
   "cell_type": "markdown",
   "id": "3f2f3673",
   "metadata": {},
   "source": [
    "# 1.\tWrite a Python program to print \"Hello Python\"?"
   ]
  },
  {
   "cell_type": "code",
   "execution_count": 4,
   "id": "1052b113",
   "metadata": {},
   "outputs": [
    {
     "name": "stdout",
     "output_type": "stream",
     "text": [
      "Hello Python\n"
     ]
    }
   ],
   "source": [
    "print(\"Hello Python\")"
   ]
  },
  {
   "cell_type": "markdown",
   "id": "35ca23e5",
   "metadata": {},
   "source": [
    "# 2.\tWrite a Python program to do arithmetical operations addition and division.?"
   ]
  },
  {
   "cell_type": "code",
   "execution_count": 12,
   "id": "74543042",
   "metadata": {},
   "outputs": [
    {
     "name": "stdout",
     "output_type": "stream",
     "text": [
      "Addition of a and b is  30\n",
      "Division of a by b is  0.5\n"
     ]
    }
   ],
   "source": [
    "a=10\n",
    "b=20\n",
    "print (\"Addition of a and b is \",a+b)\n",
    "print (\"Division of a by b is \",a/b)"
   ]
  },
  {
   "cell_type": "code",
   "execution_count": 15,
   "id": "fced2122",
   "metadata": {},
   "outputs": [
    {
     "name": "stdout",
     "output_type": "stream",
     "text": [
      "a=30\n",
      "b=20\n",
      "adition of 30+20=50\n",
      "division of 30/20=1.5\n"
     ]
    }
   ],
   "source": [
    "a=int(input(\"a=\"))\n",
    "b=int(input(\"b=\"))\n",
    "print (\"adition of {}+{}={}\".format(a,b,a+b))\n",
    "print (\"division of {}/{}={}\".format(a,b,a/b))"
   ]
  },
  {
   "cell_type": "markdown",
   "id": "510cc722",
   "metadata": {},
   "source": [
    "# 3.\tWrite a Python program to find the area of a triangle?"
   ]
  },
  {
   "cell_type": "code",
   "execution_count": 19,
   "id": "85df5d97",
   "metadata": {},
   "outputs": [
    {
     "name": "stdout",
     "output_type": "stream",
     "text": [
      "Base=5\n",
      "Height=5\n",
      "area of traiangle is 12.5\n"
     ]
    }
   ],
   "source": [
    "Base=float(input(\"Base=\"))\n",
    "Height=float(input(\"Height=\"))\n",
    "print(\"area of traiangle is {}\".format(0.5*Base*Height))"
   ]
  },
  {
   "cell_type": "markdown",
   "id": "68b8c3bb",
   "metadata": {},
   "source": [
    "# 4.\tWrite a Python program to swap two variables?"
   ]
  },
  {
   "cell_type": "code",
   "execution_count": 20,
   "id": "44fee311",
   "metadata": {},
   "outputs": [
    {
     "name": "stdout",
     "output_type": "stream",
     "text": [
      "before swaping a=10 and b=20\n",
      "After swaping a=20 and b=10\n"
     ]
    }
   ],
   "source": [
    "a=10\n",
    "b=20\n",
    "print(\"before swaping a={} and b={}\".format(a,b))\n",
    "temp=a\n",
    "a=b\n",
    "b=temp\n",
    "print(\"After swaping a={} and b={}\".format(a,b))\n"
   ]
  },
  {
   "cell_type": "markdown",
   "id": "3a0c576f",
   "metadata": {},
   "source": [
    "# 5.\tWrite a Python program to generate a random number?"
   ]
  },
  {
   "cell_type": "code",
   "execution_count": 24,
   "id": "8508e62a",
   "metadata": {},
   "outputs": [
    {
     "name": "stdout",
     "output_type": "stream",
     "text": [
      "4\n"
     ]
    }
   ],
   "source": [
    "import random\n",
    "a=random.randint(1,10)\n",
    "print(a)"
   ]
  },
  {
   "cell_type": "code",
   "execution_count": null,
   "id": "2bcda90a",
   "metadata": {},
   "outputs": [],
   "source": []
  },
  {
   "cell_type": "code",
   "execution_count": null,
   "id": "daf59033",
   "metadata": {},
   "outputs": [],
   "source": []
  }
 ],
 "metadata": {
  "kernelspec": {
   "display_name": "Python 3 (ipykernel)",
   "language": "python",
   "name": "python3"
  },
  "language_info": {
   "codemirror_mode": {
    "name": "ipython",
    "version": 3
   },
   "file_extension": ".py",
   "mimetype": "text/x-python",
   "name": "python",
   "nbconvert_exporter": "python",
   "pygments_lexer": "ipython3",
   "version": "3.9.7"
  }
 },
 "nbformat": 4,
 "nbformat_minor": 5
}
