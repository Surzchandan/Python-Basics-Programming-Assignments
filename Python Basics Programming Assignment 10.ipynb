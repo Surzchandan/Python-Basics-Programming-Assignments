{
 "cells": [
  {
   "cell_type": "markdown",
   "id": "d4ab7961",
   "metadata": {},
   "source": [
    "# 1.Write a Python program to find sum of elements in list?\n",
    "\n"
   ]
  },
  {
   "cell_type": "code",
   "execution_count": 1,
   "id": "55ff3fe5",
   "metadata": {},
   "outputs": [
    {
     "data": {
      "text/plain": [
       "45"
      ]
     },
     "execution_count": 1,
     "metadata": {},
     "output_type": "execute_result"
    }
   ],
   "source": [
    "def sum_lst_ele(n):\n",
    "    sum=0\n",
    "    for i in n:\n",
    "        sum+=i\n",
    "    return sum\n",
    "sum_lst_ele([1,2,3,4,5,6,7,8,9])\n",
    "        "
   ]
  },
  {
   "cell_type": "markdown",
   "id": "6870d066",
   "metadata": {},
   "source": [
    "# 2.Write a Python program to  Multiply all numbers in the list?\n"
   ]
  },
  {
   "cell_type": "code",
   "execution_count": 4,
   "id": "02040831",
   "metadata": {},
   "outputs": [
    {
     "data": {
      "text/plain": [
       "720"
      ]
     },
     "execution_count": 4,
     "metadata": {},
     "output_type": "execute_result"
    }
   ],
   "source": [
    "def multi_lst_ele(n):\n",
    "    reasult=1\n",
    "    for i in n:\n",
    "        reasult=reasult*i\n",
    "    return reasult\n",
    "multi_lst_ele([1,2,3,4,5,6])"
   ]
  },
  {
   "cell_type": "markdown",
   "id": "c0c8cd09",
   "metadata": {},
   "source": [
    "# 3.Write a Python program to find smallest number in a list?\n"
   ]
  },
  {
   "cell_type": "code",
   "execution_count": 5,
   "id": "0120aaa7",
   "metadata": {},
   "outputs": [
    {
     "data": {
      "text/plain": [
       "5"
      ]
     },
     "execution_count": 5,
     "metadata": {},
     "output_type": "execute_result"
    }
   ],
   "source": [
    "def smallest_num(lst):\n",
    "    for i in lst:\n",
    "        return min(lst)\n",
    "smallest_num([99,88,77,66,55,44,33,22,5,33])    "
   ]
  },
  {
   "cell_type": "markdown",
   "id": "a5dc585e",
   "metadata": {},
   "source": [
    "# 4.Write a Python program to find largest number in a list?\n"
   ]
  },
  {
   "cell_type": "code",
   "execution_count": 6,
   "id": "c79c90df",
   "metadata": {},
   "outputs": [
    {
     "data": {
      "text/plain": [
       "99"
      ]
     },
     "execution_count": 6,
     "metadata": {},
     "output_type": "execute_result"
    }
   ],
   "source": [
    "def largest_num(lst):\n",
    "    for i in lst:\n",
    "        return max(lst)\n",
    "largest_num([99,88,77,66,55,44,33,22,5,33])    "
   ]
  },
  {
   "cell_type": "markdown",
   "id": "39fafcc3",
   "metadata": {},
   "source": [
    "# 5.Write a Python program to find second largest number in a list?\n"
   ]
  },
  {
   "cell_type": "code",
   "execution_count": 17,
   "id": "096606e5",
   "metadata": {},
   "outputs": [
    {
     "name": "stdout",
     "output_type": "stream",
     "text": [
      "Sencond largest No. in list is  88\n"
     ]
    }
   ],
   "source": [
    "lst=[1,22,34,55,67,34,88,99]\n",
    "lst.sort(reverse=True)\n",
    "print(\"Sencond largest No. in list is \",lst[1])"
   ]
  },
  {
   "cell_type": "markdown",
   "id": "4563e1e6",
   "metadata": {},
   "source": [
    "# 6.Write a Python program to find N largest elements from a list?\n"
   ]
  },
  {
   "cell_type": "code",
   "execution_count": 23,
   "id": "32f60fb6",
   "metadata": {},
   "outputs": [
    {
     "name": "stdout",
     "output_type": "stream",
     "text": [
      "Enter the lenth of your list : 7\n",
      "11\n",
      "22\n",
      "33\n",
      "44\n",
      "55\n",
      "66\n",
      "77\n",
      "List is [11, 22, 33, 44, 55, 66, 77]\n",
      "Enter how many largest elements you want from list__3\n",
      "N largest elements in list is:= [77, 66, 55]\n"
     ]
    }
   ],
   "source": [
    "n = int(input(\"Enter the lenth of your list : \"))\n",
    "lst = []\n",
    "for i in range(n):\n",
    "    lst.append(int(input()))\n",
    "print(\"List is\",lst)\n",
    "lst.sort(reverse=True)\n",
    "n_large=int(input(\"Enter how many largest elements you want from list__\"))\n",
    "if n_large>n:\n",
    "    print(\"you have entered element is greater than elements available in list\")\n",
    "else:\n",
    "    print(\"N largest elements in list is:=\",lst[0:n_large])"
   ]
  },
  {
   "cell_type": "markdown",
   "id": "99043615",
   "metadata": {},
   "source": [
    "# 7.Write a Python program to print even numbers in a list?\n"
   ]
  },
  {
   "cell_type": "code",
   "execution_count": 24,
   "id": "0e75ad55",
   "metadata": {},
   "outputs": [
    {
     "name": "stdout",
     "output_type": "stream",
     "text": [
      "Enter the lenth of your list : 5\n",
      "11\n",
      "22\n",
      "33\n",
      "44\n",
      "6\n",
      "List is [11, 22, 33, 44, 6]\n",
      "Even Numbers in a list= [22, 44, 6]\n"
     ]
    }
   ],
   "source": [
    "n = int(input(\"Enter the lenth of your list : \"))\n",
    "lst = []\n",
    "even=[]\n",
    "for i in range(n):\n",
    "    lst.append(int(input()))\n",
    "print(\"List is\",lst)\n",
    "for i in lst:\n",
    "    if i%2==0:\n",
    "        even.append(i)\n",
    "    else:\n",
    "        pass\n",
    "print(\"Even Numbers in a list=\",even)"
   ]
  },
  {
   "cell_type": "markdown",
   "id": "64fc9284",
   "metadata": {},
   "source": [
    "# 8.Write a Python program to print odd numbers in a List?\n"
   ]
  },
  {
   "cell_type": "code",
   "execution_count": 29,
   "id": "1e2b1b21",
   "metadata": {},
   "outputs": [
    {
     "name": "stdout",
     "output_type": "stream",
     "text": [
      "Enter the lenth of your list : 5\n",
      "1\n",
      "2\n",
      "3\n",
      "4\n",
      "5\n",
      "List is [1, 2, 3, 4, 5]\n",
      "odd Numbers in a list= [1, 3, 5]\n"
     ]
    }
   ],
   "source": [
    "n = int(input(\"Enter the lenth of your list : \"))\n",
    "lst = []\n",
    "odd=[]\n",
    "for i in range(n):\n",
    "    lst.append(int(input()))\n",
    "print(\"List is\",lst)\n",
    "for i in lst:\n",
    "    if i%2!=0:\n",
    "        odd.append(i)\n",
    "print(\"odd Numbers in a list=\",odd)"
   ]
  },
  {
   "cell_type": "markdown",
   "id": "8036b62a",
   "metadata": {},
   "source": [
    "# 9.Write a Python program to Remove empty List from List?\n"
   ]
  },
  {
   "cell_type": "code",
   "execution_count": 30,
   "id": "3afc575c",
   "metadata": {},
   "outputs": [
    {
     "name": "stdout",
     "output_type": "stream",
     "text": [
      "Original List= [22, [], 44, 5, [], 66, [], 11, 23, [], 99]\n",
      "List after removing empty list is= [22, 44, 5, 66, 11, 23, 99]\n"
     ]
    }
   ],
   "source": [
    "lst=[22,[],44,5,[],66,[],11,23,[],99]\n",
    "print(\"Original List=\",lst)\n",
    "lst_1=[ele for ele in lst if ele !=[]]\n",
    "print(\"List after removing empty list is=\",lst_1)"
   ]
  },
  {
   "cell_type": "markdown",
   "id": "b75ac54f",
   "metadata": {},
   "source": [
    "# 10.\tWrite a Python program to Cloning or Copying a list?\n"
   ]
  },
  {
   "cell_type": "code",
   "execution_count": 31,
   "id": "5339d399",
   "metadata": {},
   "outputs": [
    {
     "name": "stdout",
     "output_type": "stream",
     "text": [
      "Enter the lenth of your list : 5\n",
      "22\n",
      "33\n",
      "5\n",
      "6\n",
      "7\n",
      "List is [22, 33, 5, 6, 7]\n",
      "Cloned list are as below\n",
      "list clonning by copy function= [22, 33, 5, 6, 7]\n",
      "list clonning by append opearation [22, 33, 5, 6, 7]\n"
     ]
    }
   ],
   "source": [
    "n = int(input(\"Enter the lenth of your list : \"))\n",
    "lst = []\n",
    "for i in range(n):\n",
    "    lst.append(int(input()))\n",
    "print(\"List is\",lst)\n",
    "print(\"Cloned list are as below\")\n",
    "lst1=lst.copy()\n",
    "print(\"list clonning by copy function=\",lst1)\n",
    "lst2=[]\n",
    "for i in lst:\n",
    "    lst2.append(i)\n",
    "print(\"list clonning by append opearation\",lst2)"
   ]
  },
  {
   "cell_type": "markdown",
   "id": "113aa1e1",
   "metadata": {},
   "source": [
    "# 11.Write a Python program to Count occurrences of an element in a list?"
   ]
  },
  {
   "cell_type": "code",
   "execution_count": 34,
   "id": "df783af5",
   "metadata": {},
   "outputs": [
    {
     "name": "stdout",
     "output_type": "stream",
     "text": [
      "Enter the lenth of your list : 10\n",
      "5\n",
      "6\n",
      "4\n",
      "5\n",
      "6\n",
      "8\n",
      "2\n",
      "3\n",
      "4\n",
      "5\n",
      "Enter element for which you check for no of occurences in list=5\n",
      "5 has 3 times occured in a list\n"
     ]
    }
   ],
   "source": [
    "n = int(input(\"Enter the lenth of your list : \"))\n",
    "lst = []\n",
    "even=[]\n",
    "for i in range(n):\n",
    "    lst.append(int(input()))\n",
    "ele=int(input(\"Enter element for which you check for no of occurences in list=\"))\n",
    "print(ele,\"has {} times occured in a list\".format(lst.count(ele)))\n",
    "\n",
    "    "
   ]
  },
  {
   "cell_type": "code",
   "execution_count": null,
   "id": "70fa1aec",
   "metadata": {},
   "outputs": [],
   "source": []
  },
  {
   "cell_type": "code",
   "execution_count": null,
   "id": "9b539a3d",
   "metadata": {},
   "outputs": [],
   "source": []
  },
  {
   "cell_type": "code",
   "execution_count": null,
   "id": "8a2d4c5b",
   "metadata": {},
   "outputs": [],
   "source": []
  },
  {
   "cell_type": "code",
   "execution_count": null,
   "id": "e128d13e",
   "metadata": {},
   "outputs": [],
   "source": []
  }
 ],
 "metadata": {
  "kernelspec": {
   "display_name": "Python 3 (ipykernel)",
   "language": "python",
   "name": "python3"
  },
  "language_info": {
   "codemirror_mode": {
    "name": "ipython",
    "version": 3
   },
   "file_extension": ".py",
   "mimetype": "text/x-python",
   "name": "python",
   "nbconvert_exporter": "python",
   "pygments_lexer": "ipython3",
   "version": "3.9.7"
  }
 },
 "nbformat": 4,
 "nbformat_minor": 5
}
