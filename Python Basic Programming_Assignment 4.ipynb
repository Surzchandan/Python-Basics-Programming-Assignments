{
 "cells": [
  {
   "cell_type": "markdown",
   "id": "96ee2baf",
   "metadata": {},
   "source": [
    "# Python Programming_Assignmnet 4"
   ]
  },
  {
   "cell_type": "markdown",
   "id": "5ec6f8bf",
   "metadata": {},
   "source": [
    "# 1.\tWrite a Python Program to Find the Factorial of a Number?"
   ]
  },
  {
   "cell_type": "code",
   "execution_count": 6,
   "id": "d4f9a3d5",
   "metadata": {},
   "outputs": [
    {
     "name": "stdout",
     "output_type": "stream",
     "text": [
      "Enter a Number to find factorial : 10\n",
      "Factorial of 10 is 3628800\n"
     ]
    }
   ],
   "source": [
    "num = int(input(\"Enter a Number to find factorial : \"))\n",
    "factorial = 1\n",
    "if num < 0:\n",
    "    print(\"Can not calculate Factorial of a negative number\")\n",
    "elif num == 0:\n",
    "    print(\"Factorial of zero is 1\")\n",
    "else:\n",
    "    for i in range(1,num+1):\n",
    "        factorial = factorial * i\n",
    "print(\"Factorial of {} is {}\".format(num, factorial))"
   ]
  },
  {
   "cell_type": "code",
   "execution_count": null,
   "id": "e45848df",
   "metadata": {},
   "outputs": [],
   "source": []
  },
  {
   "cell_type": "markdown",
   "id": "204bb89e",
   "metadata": {},
   "source": [
    "# 2.\tWrite a Python Program to Display the multiplication Table?\n",
    "\n"
   ]
  },
  {
   "cell_type": "code",
   "execution_count": 15,
   "id": "3589f8a2",
   "metadata": {},
   "outputs": [
    {
     "name": "stdout",
     "output_type": "stream",
     "text": [
      "Enter a Number to display Multiplication table_7\n",
      "7 X 1 = 7\n",
      "7 X 2 = 14\n",
      "7 X 3 = 21\n",
      "7 X 4 = 28\n",
      "7 X 5 = 35\n",
      "7 X 6 = 42\n",
      "7 X 7 = 49\n",
      "7 X 8 = 56\n",
      "7 X 9 = 63\n",
      "7 X 10 = 70\n"
     ]
    }
   ],
   "source": [
    "num=int(input(\"Enter a Number to display Multiplication table_\"))\n",
    "table=[]\n",
    "for i in range(1,11):\n",
    "    x=num*i \n",
    "    print(\"{} X {} = {}\".format(num,i,x))\n",
    "    \n",
    "                \n"
   ]
  },
  {
   "cell_type": "code",
   "execution_count": null,
   "id": "520ad598",
   "metadata": {},
   "outputs": [],
   "source": []
  },
  {
   "cell_type": "code",
   "execution_count": null,
   "id": "e065821b",
   "metadata": {},
   "outputs": [],
   "source": []
  },
  {
   "cell_type": "markdown",
   "id": "78b0b3f2",
   "metadata": {},
   "source": [
    "# 3.\tWrite a Python Program to Print the Fibonacci sequence?"
   ]
  },
  {
   "cell_type": "code",
   "execution_count": 18,
   "id": "919b0646",
   "metadata": {},
   "outputs": [
    {
     "data": {
      "text/plain": [
       "[1, 1, 2, 3, 5, 8, 13, 21, 34, 55, 89, 144, 233, 377, 610]"
      ]
     },
     "execution_count": 18,
     "metadata": {},
     "output_type": "execute_result"
    }
   ],
   "source": [
    "def fibonacci(n):\n",
    "    a=1\n",
    "    b=1\n",
    "    output=[]\n",
    "    for i in range(n):\n",
    "        output.append(a)\n",
    "        a,b=b,a+b\n",
    "    return output\n",
    "fibonacci(15)"
   ]
  },
  {
   "cell_type": "code",
   "execution_count": null,
   "id": "ec3858d4",
   "metadata": {},
   "outputs": [],
   "source": []
  },
  {
   "cell_type": "markdown",
   "id": "6dcda2c8",
   "metadata": {},
   "source": [
    "# 4.\tWrite a Python Program to Check Armstrong Number?"
   ]
  },
  {
   "cell_type": "code",
   "execution_count": 23,
   "id": "23d36eb4",
   "metadata": {},
   "outputs": [
    {
     "name": "stdout",
     "output_type": "stream",
     "text": [
      "Enter the number : 370\n",
      "Number is armstrong number\n"
     ]
    }
   ],
   "source": [
    "num = int(input(\"Enter the number : \"))\n",
    "\n",
    "power = len(str(num))\n",
    "\n",
    "temp = num\n",
    "sum = 0\n",
    "while temp > 0:\n",
    "    digit = temp % 10\n",
    "    sum = sum + digit ** power\n",
    "    temp = temp//10\n",
    "if num == sum :\n",
    "    print(\"Number is armstrong number\")\n",
    "else:\n",
    "    print(\"Not an armstrong number\")"
   ]
  },
  {
   "cell_type": "markdown",
   "id": "2c8c5b4a",
   "metadata": {},
   "source": [
    "# 5.\tWrite a Python Program to Find Armstrong Number in an Interval?"
   ]
  },
  {
   "cell_type": "code",
   "execution_count": 27,
   "id": "aebad0ca",
   "metadata": {},
   "outputs": [
    {
     "name": "stdout",
     "output_type": "stream",
     "text": [
      "Enter first no.:_1\n",
      "Enter first no.:_1000\n",
      "1\n",
      "2\n",
      "3\n",
      "4\n",
      "5\n",
      "6\n",
      "7\n",
      "8\n",
      "9\n",
      "153\n",
      "370\n",
      "371\n",
      "407\n"
     ]
    }
   ],
   "source": [
    "low_num=int(input(\"Enter first no.:_\"))\n",
    "High_num=int(input(\"Enter first no.:_\"))\n",
    "for i in range (low_num,High_num+1):\n",
    "    power=len(str(i))\n",
    "    temp=i\n",
    "    sum=0\n",
    "    while temp>0:\n",
    "        digit=temp%10\n",
    "        sum=sum+digit**power\n",
    "        temp=temp//10\n",
    "    if i==sum:\n",
    "        print(i)"
   ]
  },
  {
   "cell_type": "markdown",
   "id": "238c5c33",
   "metadata": {},
   "source": [
    "# 6.\tWrite a Python Program to Find the Sum of Natural Numbers?"
   ]
  },
  {
   "cell_type": "code",
   "execution_count": 1,
   "id": "fa81b585",
   "metadata": {},
   "outputs": [
    {
     "name": "stdout",
     "output_type": "stream",
     "text": [
      "enter the number : 10\n",
      "Sum of natural numbers upto 10 is 55\n"
     ]
    }
   ],
   "source": [
    "num = int(input(\"enter the number : \"))\n",
    "sum = 0\n",
    "for i in range(0,num+1):\n",
    "    sum+=i\n",
    "print(\"Sum of natural numbers upto {} is {}\".format(num,sum))"
   ]
  },
  {
   "cell_type": "code",
   "execution_count": null,
   "id": "68548c57",
   "metadata": {},
   "outputs": [],
   "source": []
  }
 ],
 "metadata": {
  "kernelspec": {
   "display_name": "Python 3 (ipykernel)",
   "language": "python",
   "name": "python3"
  },
  "language_info": {
   "codemirror_mode": {
    "name": "ipython",
    "version": 3
   },
   "file_extension": ".py",
   "mimetype": "text/x-python",
   "name": "python",
   "nbconvert_exporter": "python",
   "pygments_lexer": "ipython3",
   "version": "3.9.7"
  }
 },
 "nbformat": 4,
 "nbformat_minor": 5
}
