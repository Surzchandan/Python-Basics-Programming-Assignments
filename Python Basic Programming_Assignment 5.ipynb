{
 "cells": [
  {
   "cell_type": "markdown",
   "id": "5f485108",
   "metadata": {},
   "source": [
    "# Python Basic Programming_Assignment 5"
   ]
  },
  {
   "cell_type": "markdown",
   "id": "ab4b18d9",
   "metadata": {},
   "source": [
    "# 1.\tWrite a Python Program to Find LCM?\n",
    "\n"
   ]
  },
  {
   "cell_type": "code",
   "execution_count": 14,
   "id": "729a9e3d",
   "metadata": {},
   "outputs": [
    {
     "name": "stdout",
     "output_type": "stream",
     "text": [
      "Enter first no.:_3\n",
      "Enter first no.:_15\n",
      "LCM of 3 and 15 is 15\n"
     ]
    }
   ],
   "source": [
    "#Least common multiple\n",
    "num1=int(input(\"Enter first no.:_\"))\n",
    "num2=int(input(\"Enter first no.:_\"))\n",
    "if num1>num2:\n",
    "    bigger=num1\n",
    "else:\n",
    "    bigger=num2\n",
    "while (True):\n",
    "    if bigger%num1==0 and bigger%num2==0:\n",
    "        lcm=bigger\n",
    "        print(\"LCM of {} and {} is {}\".format(num1,num2,lcm))\n",
    "        break\n",
    "    else:\n",
    "        bigger+=1\n"
   ]
  },
  {
   "cell_type": "markdown",
   "id": "64839ba2",
   "metadata": {},
   "source": [
    "\n",
    "# 2.\tWrite a Python Program to Find HCF?\n"
   ]
  },
  {
   "cell_type": "code",
   "execution_count": 17,
   "id": "ac52f8c0",
   "metadata": {},
   "outputs": [
    {
     "name": "stdout",
     "output_type": "stream",
     "text": [
      "enter first no.:_24\n",
      "enter first no.:_15\n",
      "HCF of 24 and 15 is 3\n"
     ]
    }
   ],
   "source": [
    "num1=int(input(\"enter first no.:_\"))\n",
    "num2=int(input(\"enter first no.:_\"))\n",
    "arr=[]\n",
    "if num1>num2:\n",
    "    smaller=num2\n",
    "else:\n",
    "    smaller=num1\n",
    "for i in range(1,smaller+1):\n",
    "    if (num1%i==0) and (num2%i==0):\n",
    "        arr.append(i)\n",
    "print(\"HCF of {} and {} is {}\".format(num1,num2,(max(arr))))"
   ]
  },
  {
   "cell_type": "markdown",
   "id": "fc7425cd",
   "metadata": {},
   "source": [
    "# 3.\tWrite a Python Program to Convert Decimal to Binary, Octal and Hexadecimal?\n"
   ]
  },
  {
   "cell_type": "code",
   "execution_count": 20,
   "id": "617772a6",
   "metadata": {},
   "outputs": [
    {
     "name": "stdout",
     "output_type": "stream",
     "text": [
      "enter a decimal number:  87\n",
      "87 in banary is 0b1010111\n",
      "87 in octal is 0o127\n",
      "87 in hexadecimal is 0x57\n"
     ]
    }
   ],
   "source": [
    "dec=int(input(\"enter a decimal number:  \"))\n",
    "print(\"{} in banary is {}\".format(dec,(bin(dec))))\n",
    "print(\"{} in octal is {}\".format(dec,(oct(dec))))\n",
    "print(\"{} in hexadecimal is {}\".format(dec,(hex(dec))))"
   ]
  },
  {
   "cell_type": "markdown",
   "id": "ee49b768",
   "metadata": {},
   "source": [
    "# 4.\tWrite a Python Program To Find ASCII value of a character?\n"
   ]
  },
  {
   "cell_type": "code",
   "execution_count": 25,
   "id": "728f829a",
   "metadata": {},
   "outputs": [
    {
     "name": "stdout",
     "output_type": "stream",
     "text": [
      "Enter a Charecter : B\n",
      "Ascii value of B is 66\n"
     ]
    }
   ],
   "source": [
    "str = input(\"Enter a Charecter : \")\n",
    "# ord gives the ASCII value of a character\n",
    "print(\"Ascii value of {} is {}\".format(str,ord(str)))\n"
   ]
  },
  {
   "cell_type": "markdown",
   "id": "f5760072",
   "metadata": {},
   "source": [
    "# 5.\tWrite a Python Program to Make a Simple Calculator with 4 basic mathematical operations?"
   ]
  },
  {
   "cell_type": "code",
   "execution_count": 9,
   "id": "9522b8ab",
   "metadata": {},
   "outputs": [
    {
     "name": "stdout",
     "output_type": "stream",
     "text": [
      "Enter first No._10\n",
      "Enter Second No._109\n",
      "Enter what operation did you want to do:+,-,/,*:_+\n",
      "10.0+109.0=119.0\n"
     ]
    }
   ],
   "source": [
    "num1=float(input(\"Enter first No._\"))\n",
    "num2=float(input(\"Enter Second No._\"))\n",
    "operator=input(\"Enter what operation did you want to do:+,-,/,*:_\")\n",
    "if operator==\"+\":\n",
    "    print(\"{}+{}={}\".format(num1,num2,num1+num2))\n",
    "elif operator==\"-\":\n",
    "    print(\"{}-{}={}\".format(num1,num2,num1-num2))\n",
    "elif operator==\"*\":\n",
    "    print(\"{}*{}={}\".format(num1,num2,num1*num2))\n",
    "elif operator==\"/\":\n",
    "    if num2==0:\n",
    "        print(\"Division by zero error\")\n",
    "    else:\n",
    "        print(\"{}*{}={}\".format(num1,num2,num1*num2))\n",
    "else:\n",
    "    print(\"invalid input\")"
   ]
  },
  {
   "cell_type": "code",
   "execution_count": 6,
   "id": "09b08682",
   "metadata": {},
   "outputs": [
    {
     "data": {
      "text/plain": [
       "0.0"
      ]
     },
     "execution_count": 6,
     "metadata": {},
     "output_type": "execute_result"
    }
   ],
   "source": [
    "0/10\n"
   ]
  },
  {
   "cell_type": "code",
   "execution_count": null,
   "id": "a191244c",
   "metadata": {},
   "outputs": [],
   "source": []
  }
 ],
 "metadata": {
  "kernelspec": {
   "display_name": "Python 3 (ipykernel)",
   "language": "python",
   "name": "python3"
  },
  "language_info": {
   "codemirror_mode": {
    "name": "ipython",
    "version": 3
   },
   "file_extension": ".py",
   "mimetype": "text/x-python",
   "name": "python",
   "nbconvert_exporter": "python",
   "pygments_lexer": "ipython3",
   "version": "3.9.7"
  }
 },
 "nbformat": 4,
 "nbformat_minor": 5
}
